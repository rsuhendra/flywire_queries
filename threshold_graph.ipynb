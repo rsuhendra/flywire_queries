{
 "cells": [
  {
   "cell_type": "code",
   "execution_count": 2,
   "metadata": {},
   "outputs": [],
   "source": [
    "import graph_tool.all as gt\n",
    "import numpy as np\n",
    "import pandas as pd\n",
    "from scipy.sparse import csr_matrix\n",
    "import matplotlib.pyplot as plt"
   ]
  },
  {
   "cell_type": "code",
   "execution_count": 24,
   "metadata": {},
   "outputs": [],
   "source": [
    "\n",
    "# Calculate and plot\n",
    "def rem_perc_con(A,B,ax=1):\n",
    "\torig = np.sum(A>0, axis=ax).A1\n",
    "\tmodi = np.sum(B>0, axis=ax).A1\n",
    "\n",
    "\tmodi = modi[orig>0]\n",
    "\torig = orig[orig>0]\n",
    " \n",
    "\tmessage = 'in' if ax==1 else 'out'\n",
    "\n",
    "\tplt.hist(100*(modi/orig), bins=50, density=True)\n",
    "\tplt.xlabel(f'Percentage of remaining {message} connections')\n",
    "\tplt.show()\n",
    "\tplt.close()\n",
    " \n",
    "# def percentage_threshold(csr_mat, threshold = 50, mode = 'in'):\n",
    "# \tnew_i = []\n",
    "# \tnew_j = []\n",
    "# \tnew_val = []\n",
    "# \trow_medians = []\n",
    "\t\n",
    "# \tif mode == 'out':\n",
    "# \t\tcsr_mat = csr_mat.T.tocsr()\n",
    " \n",
    "# \tfor i in range(csr_mat.shape[0]):\n",
    "# \t\trow = csr_mat.getrow(i)  # Get the i-th row\n",
    "# \t\tnonzero_values = row.data  # Nonzero values in the row\n",
    "# \t\tnonzero_indices = row.indices\n",
    "# \t\tif len(nonzero_values) > 0:\n",
    "# \t\t\tperc = np.percentile(nonzero_values, 100-threshold)\n",
    "# \t\t\tnew_indices = nonzero_indices[nonzero_values>perc]\n",
    "# \t\t\tnew_data = nonzero_values[nonzero_values>perc]\n",
    "# \t\t\trow_medians.append(perc)\n",
    "   \n",
    "# \t\t\tnew_i.extend(len(new_indices)*[i])\n",
    "# \t\t\tnew_j.extend(new_indices)\n",
    "# \t\t\tnew_val.extend(new_data)\n",
    "# \t\telse:\n",
    "# \t\t\trow_medians.append(0)  # If the row has no nonzero values, append 0\n",
    "   \n",
    "# \tnew_csr_mat = csr_matrix((new_val, (new_i, new_j)), shape=(csr_mat.shape[0], csr_mat.shape[0]))\n",
    "\n",
    "# \tif mode == 'out':\n",
    "# \t\treturn new_csr_mat.T\n",
    "# \telse:\n",
    "# \t\treturn new_csr_mat\n",
    "\n",
    "def percentage_threshold(g, threshold = 50, mode = 'in'):\n",
    "\tcsr_mat = gt.adjacency(g, weight=g.ep.weight)\n",
    " \n",
    "\tif mode == 'out':\n",
    "\t\tcsr_mat = csr_mat.T.tocsr()\n",
    " \n",
    "\t# Initialize lists to store the new data, indices, and indptr\n",
    "\tnew_data = []\n",
    "\tnew_indices = []\n",
    "\tnew_indptr = [0]\n",
    " \n",
    "\tfor i in range(csr_mat.shape[0]):\n",
    "\t\trow = csr_mat.getrow(i)  # Get the i-th row\n",
    "\t\tnonzero_values = row.data  # Nonzero values in the row\n",
    "\t\tnonzero_indices = row.indices  # Indices of nonzero values\n",
    "\n",
    "\t\tif len(nonzero_values) > 0:\n",
    "\t\t\tperc = np.percentile(nonzero_values, 100 - threshold)  # Calculate the percentile\n",
    "\n",
    "\t\t\t# Compare each nonzero value to perc and replace with 1 or -1\n",
    "\t\t\tmodified_values = np.where(nonzero_values > perc, 1, -1)\n",
    "\n",
    "\t\t\t# Append the modified values and indices to the lists\n",
    "\t\t\tnew_data.extend(modified_values)\n",
    "\t\t\tnew_indices.extend(nonzero_indices)\n",
    "\t\t\n",
    "\t\tnew_indptr.append(new_indptr[-1] + len(nonzero_values))\n",
    "\n",
    "\tnew_csr_mat = csr_matrix((new_data, new_indices, new_indptr), shape=csr_mat.shape)\n",
    "\t\n",
    "\tif mode == 'out':\n",
    "\t\treturn new_csr_mat.T.tocsr()\n",
    "\telse:\n",
    "\t\treturn new_csr_mat"
   ]
  },
  {
   "cell_type": "code",
   "execution_count": 15,
   "metadata": {},
   "outputs": [],
   "source": [
    "fname = 'connections'\n",
    "g = gt.load_graph(f'../../flywire_data/{fname}.gt')\n",
    "A = gt.adjacency(g, weight=g.ep.weight)"
   ]
  },
  {
   "cell_type": "code",
   "execution_count": 16,
   "metadata": {},
   "outputs": [
    {
     "data": {
      "text/plain": [
       "720575940596125868"
      ]
     },
     "execution_count": 16,
     "metadata": {},
     "output_type": "execute_result"
    }
   ],
   "source": [
    "g.vp.name[g.vertex(0)]"
   ]
  },
  {
   "cell_type": "code",
   "execution_count": 25,
   "metadata": {},
   "outputs": [],
   "source": [
    "\n",
    "# # Thresholding less than T\n",
    "thresh = 10\n",
    "B = A.multiply((A >= thresh)*1)\n",
    "\n",
    "# Threshold In degree\n",
    "C = percentage_threshold(g, threshold=50, mode = 'in')\n",
    "\n",
    "# Threshold Out degree\n",
    "D = percentage_threshold(g, threshold=50, mode = 'out')\n",
    "\n",
    "# Axis = 1, look at in degree\n",
    "# Axis = 0, look at out degree\n"
   ]
  },
  {
   "cell_type": "code",
   "execution_count": 11,
   "metadata": {},
   "outputs": [
    {
     "data": {
      "text/plain": [
       "2701601"
      ]
     },
     "execution_count": 11,
     "metadata": {},
     "output_type": "execute_result"
    }
   ],
   "source": [
    "A.nnz"
   ]
  },
  {
   "cell_type": "code",
   "execution_count": null,
   "metadata": {},
   "outputs": [
    {
     "name": "stdout",
     "output_type": "stream",
     "text": [
      "[ 5.  5.  5.  5.  8. 10.  5.  5.  5.  7. 17.  5. 16.]\n",
      "[-1 -1 -1 -1  1  1 -1 -1 -1  1  1 -1  1]\n"
     ]
    },
    {
     "ename": "",
     "evalue": "",
     "output_type": "error",
     "traceback": [
      "\u001b[1;31mThe Kernel crashed while executing code in the current cell or a previous cell. \n",
      "\u001b[1;31mPlease review the code in the cell(s) to identify a possible cause of the failure. \n",
      "\u001b[1;31mClick <a href='https://aka.ms/vscodeJupyterKernelCrash'>here</a> for more info. \n",
      "\u001b[1;31mView Jupyter <a href='command:jupyter.viewOutput'>log</a> for further details."
     ]
    }
   ],
   "source": [
    "print(A.tocsc().getcol(0).data)\n",
    "print(D.tocsc().getcol(0).data)"
   ]
  },
  {
   "cell_type": "code",
   "execution_count": 11,
   "metadata": {},
   "outputs": [
    {
     "data": {
      "image/png": "[encoded data removed]",
      "text/plain": [
       "<Figure size 640x480 with 1 Axes>"
      ]
     },
     "metadata": {},
     "output_type": "display_data"
    }
   ],
   "source": [
    "rem_perc_con(A,D, ax=0)"
   ]
  },
  {
   "cell_type": "code",
   "execution_count": null,
   "metadata": {},
   "outputs": [],
   "source": []
  }
 ],
 "metadata": {
  "kernelspec": {
   "display_name": "gallio",
   "language": "python",
   "name": "python3"
  },
  "language_info": {
   "codemirror_mode": {
    "name": "ipython",
    "version": 3
   },
   "file_extension": ".py",
   "mimetype": "text/x-python",
   "name": "python",
   "nbconvert_exporter": "python",
   "pygments_lexer": "ipython3",
   "version": "3.9.21"
  }
 },
 "nbformat": 4,
 "nbformat_minor": 2
}
